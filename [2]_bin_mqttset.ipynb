{
  "cells": [
    {
      "cell_type": "markdown",
      "metadata": {
        "id": "view-in-github",
        "colab_type": "text"
      },
      "source": [
        "<a href=\"https://colab.research.google.com/github/matheusfigueiredoo/COBOT_2023-24/blob/main/%5B2%5D_bin_mqttset.ipynb\" target=\"_parent\"><img src=\"https://colab.research.google.com/assets/colab-badge.svg\" alt=\"Open In Colab\"/></a>"
      ]
    },
    {
      "cell_type": "code",
      "execution_count": 1,
      "id": "e3fbd576",
      "metadata": {
        "id": "e3fbd576",
        "colab": {
          "base_uri": "https://localhost:8080/"
        },
        "outputId": "c05f6e20-2399-4035-81c7-b4d9876fc790"
      },
      "outputs": [
        {
          "output_type": "stream",
          "name": "stdout",
          "text": [
            "Mounted at /content/drive\n"
          ]
        }
      ],
      "source": [
        "import numpy as np\n",
        "import pandas as pd\n",
        "from google.colab import drive\n",
        "drive.mount('/content/drive')\n",
        "\n",
        "from sklearn.naive_bayes import GaussianNB\n",
        "from sklearn.ensemble import GradientBoostingClassifier\n",
        "\n",
        "from sklearn.model_selection import cross_val_score\n",
        "from sklearn.metrics import classification_report\n",
        "from sklearn.metrics import accuracy_score\n",
        "from sklearn.metrics import confusion_matrix\n",
        "from sklearn.metrics import ConfusionMatrixDisplay\n",
        "import matplotlib.pyplot as plt\n",
        "%matplotlib inline"
      ]
    },
    {
      "cell_type": "markdown",
      "source": [
        "# Pre processing data"
      ],
      "metadata": {
        "id": "YNaYhUK-gh4t"
      },
      "id": "YNaYhUK-gh4t"
    },
    {
      "cell_type": "code",
      "execution_count": 2,
      "id": "4ef16d64",
      "metadata": {
        "id": "4ef16d64",
        "colab": {
          "base_uri": "https://localhost:8080/"
        },
        "outputId": "a2deabb9-5319-4eeb-aca8-f9284a306882"
      },
      "outputs": [
        {
          "output_type": "stream",
          "name": "stdout",
          "text": [
            "target\n",
            "legitimate    7000000\n",
            "bruteforce    1400000\n",
            "flood         1400000\n",
            "slowite       1400000\n",
            "dos           1400000\n",
            "malformed     1400000\n",
            "Name: count, dtype: int64\n",
            "target\n",
            "legitimate    3000000\n",
            "dos            600000\n",
            "slowite        600000\n",
            "flood          600000\n",
            "bruteforce     600000\n",
            "malformed      600000\n",
            "Name: count, dtype: int64\n"
          ]
        }
      ],
      "source": [
        "train = pd.read_csv(\"drive/MyDrive/MQTTset/train70_augmented.csv\")\n",
        "test = pd.read_csv(\"drive/MyDrive/MQTTset/test30_augmented.csv\")\n",
        "train = pd.DataFrame(train)\n",
        "test = pd.DataFrame(test)\n",
        "\n",
        "# new data shape\n",
        "print(train['target'].value_counts())\n",
        "print(test['target'].value_counts())"
      ]
    },
    {
      "cell_type": "code",
      "source": [
        "print(train['mqtt.conack.flags.reserved'].unique())\n",
        "print(train['mqtt.conack.flags.sp'].unique())\n",
        "print(train['mqtt.conflag.qos'].unique())\n",
        "print(train['mqtt.conflag.reserved'].unique())\n",
        "print(train['mqtt.conflag.retain'].unique())\n",
        "print(train['mqtt.conflag.willflag'].unique())\n",
        "print(train['mqtt.sub.qos'].unique())\n",
        "print(train['mqtt.suback.qos'].unique())\n",
        "print(train['mqtt.willmsg'].unique())\n",
        "print(train['mqtt.willmsg_len'].unique())\n",
        "print(train['mqtt.willtopic'].unique())\n",
        "print(train['mqtt.willtopic_len'].unique())"
      ],
      "metadata": {
        "colab": {
          "base_uri": "https://localhost:8080/"
        },
        "id": "mlMy2UOd7GaP",
        "outputId": "7a5fed91-9e52-4b75-9868-5bfe96618be5"
      },
      "id": "mlMy2UOd7GaP",
      "execution_count": 3,
      "outputs": [
        {
          "output_type": "stream",
          "name": "stdout",
          "text": [
            "[0.]\n",
            "[0.]\n",
            "[0.]\n",
            "[0.]\n",
            "[0.]\n",
            "[0.]\n",
            "[0.]\n",
            "[0.]\n",
            "[0.]\n",
            "[0.]\n",
            "[0.]\n",
            "[0.]\n"
          ]
        }
      ]
    },
    {
      "cell_type": "code",
      "execution_count": 4,
      "id": "505c10f4",
      "metadata": {
        "colab": {
          "base_uri": "https://localhost:8080/"
        },
        "id": "505c10f4",
        "outputId": "13cccf9a-1294-4e61-8820-f2543c8a4b10"
      },
      "outputs": [
        {
          "output_type": "stream",
          "name": "stdout",
          "text": [
            "(14000000, 22)\n",
            "(6000000, 22)\n"
          ]
        }
      ],
      "source": [
        "# columns_0 are columns with values equal to 0\n",
        "columns_0 = ['mqtt.conack.flags.reserved', 'mqtt.conack.flags.sp', 'mqtt.conflag.qos',\n",
        "           'mqtt.conflag.reserved', 'mqtt.conflag.retain', 'mqtt.conflag.willflag',\n",
        "           'mqtt.sub.qos', 'mqtt.suback.qos', 'mqtt.willmsg', 'mqtt.willmsg_len',\n",
        "           'mqtt.willtopic', 'mqtt.willtopic_len']\n",
        "\n",
        "train = train.drop(columns_0, axis=1)\n",
        "test = test.drop(columns_0, axis=1)\n",
        "\n",
        "# new data shape\n",
        "print(train.shape)\n",
        "print(test.shape)"
      ]
    },
    {
      "cell_type": "code",
      "execution_count": 5,
      "id": "64f6bb86-474b-453b-96e2-3a564a94d2ca",
      "metadata": {
        "id": "64f6bb86-474b-453b-96e2-3a564a94d2ca",
        "colab": {
          "base_uri": "https://localhost:8080/"
        },
        "outputId": "5750715a-51ad-4bd4-e9fb-dafd6bee872d"
      },
      "outputs": [
        {
          "output_type": "stream",
          "name": "stdout",
          "text": [
            "target\n",
            "legitimate    7000000\n",
            "malicious     7000000\n",
            "Name: count, dtype: int64\n",
            "target\n",
            "malicious     3000000\n",
            "legitimate    3000000\n",
            "Name: count, dtype: int64\n"
          ]
        }
      ],
      "source": [
        "# data balancing\n",
        "\n",
        "# train\n",
        "for i in train.index:\n",
        "    if train['target'][i] != 'legitimate':\n",
        "        train.at[i, 'target'] = 'malicious'\n",
        "\n",
        "# test\n",
        "for i in test.index:\n",
        "    if test['target'][i] != 'legitimate':\n",
        "        test.at[i, 'target'] = 'malicious'\n",
        "\n",
        "# new data shape\n",
        "print(train['target'].value_counts())\n",
        "print(test['target'].value_counts())"
      ]
    },
    {
      "cell_type": "code",
      "source": [
        "from sklearn.preprocessing import LabelEncoder\n",
        "label = LabelEncoder()\n",
        "\n",
        "# features and target\n",
        "train['tcp.flags'] = label.fit_transform(train['tcp.flags'])\n",
        "train['mqtt.conack.flags'] = label.fit_transform(train['mqtt.conack.flags'])\n",
        "train['mqtt.hdrflags'] = label.fit_transform(train['mqtt.hdrflags'])\n",
        "train['mqtt.protoname'] = label.fit_transform(train['mqtt.protoname'])\n",
        "train['mqtt.msg'] = label.fit_transform(train['mqtt.msg'])\n",
        "train['mqtt.conflags'] = label.fit_transform(train['mqtt.conflags'])\n",
        "train['target'] = label.fit_transform(train['target'])\n",
        "\n",
        "test['tcp.flags'] = label.fit_transform(test['tcp.flags'])\n",
        "test['mqtt.conack.flags'] = label.fit_transform(test['mqtt.conack.flags'])\n",
        "test['mqtt.hdrflags'] = label.fit_transform(test['mqtt.hdrflags'])\n",
        "test['mqtt.protoname'] = label.fit_transform(test['mqtt.protoname'])\n",
        "test['mqtt.msg'] = label.fit_transform(test['mqtt.msg'])\n",
        "test['mqtt.conflags'] = label.fit_transform(test['mqtt.conflags'])\n",
        "test['target'] = label.fit_transform(test['target'])"
      ],
      "metadata": {
        "id": "2afuT_CcUNNj"
      },
      "id": "2afuT_CcUNNj",
      "execution_count": 6,
      "outputs": []
    },
    {
      "cell_type": "code",
      "source": [
        "X_train = train.iloc[:,:-1]\n",
        "y_train = train['target']\n",
        "X_test = test.iloc[:,:-1]\n",
        "y_test = test['target']\n",
        "\n",
        "print(type(X_train))\n",
        "print(type(X_test))\n",
        "print(type(y_train))\n",
        "print(type(y_test))\n",
        "\n",
        "# convert to numpy\n",
        "X_train = X_train.values\n",
        "X_test = X_test.values\n",
        "y_train = y_train.values\n",
        "y_test = y_test.values\n",
        "\n",
        "print(type(X_train))\n",
        "print(type(X_test))\n",
        "print(type(y_train))\n",
        "print(type(y_test))"
      ],
      "metadata": {
        "id": "kl-CRRk18pwN",
        "colab": {
          "base_uri": "https://localhost:8080/"
        },
        "outputId": "cd375a8b-f4b8-4804-fd52-fd488add3f34"
      },
      "id": "kl-CRRk18pwN",
      "execution_count": 7,
      "outputs": [
        {
          "output_type": "stream",
          "name": "stdout",
          "text": [
            "<class 'pandas.core.frame.DataFrame'>\n",
            "<class 'pandas.core.frame.DataFrame'>\n",
            "<class 'pandas.core.series.Series'>\n",
            "<class 'pandas.core.series.Series'>\n",
            "<class 'numpy.ndarray'>\n",
            "<class 'numpy.ndarray'>\n",
            "<class 'numpy.ndarray'>\n",
            "<class 'numpy.ndarray'>\n"
          ]
        }
      ]
    },
    {
      "cell_type": "markdown",
      "source": [
        "# Gaussian Naive Bayes"
      ],
      "metadata": {
        "id": "5X2zHTXclyEt"
      },
      "id": "5X2zHTXclyEt"
    },
    {
      "cell_type": "code",
      "source": [
        "nb = GaussianNB()\n",
        "nb.fit(X_train, y_train)\n",
        "print(\"Accuracy train: \", nb.score(X_train, y_train))\n",
        "# cross validation\n",
        "scores_nb = cross_val_score(nb, X_train, y_train, cv=5)\n",
        "print(\"Cross-validation scores: {}\".format(scores_nb))\n",
        "print(\"Average cross-validation score: {:.2f}\".format(scores_nb.mean()),\"\\n\")\n",
        "\n",
        "print(\"Accuracy test: \", nb.score(X_test, y_test), \"\\n\")\n",
        "\n",
        "# classification report\n",
        "predict_nb = nb.predict(X_test)\n",
        "print(\"Classification report: \")\n",
        "print(classification_report(y_test, predict_nb), \"\\n\")\n",
        "\n",
        "# confusion matrix\n",
        "matrix_nb = confusion_matrix(y_test, predict_nb)\n",
        "print(\"Confusion matrix:\\n\", matrix_nb, \"\\n\")\n",
        "cm_nb = confusion_matrix(y_test, predict_nb, labels=nb.classes_)\n",
        "disp_nb = ConfusionMatrixDisplay(confusion_matrix=cm_nb, display_labels=nb.classes_)\n",
        "disp_nb.plot()\n",
        "plt.show()"
      ],
      "metadata": {
        "id": "gr7TIBhUzLgT",
        "colab": {
          "base_uri": "https://localhost:8080/",
          "height": 829
        },
        "outputId": "90fcd47e-38ec-445e-9879-ece967656c0a"
      },
      "id": "gr7TIBhUzLgT",
      "execution_count": 8,
      "outputs": [
        {
          "output_type": "stream",
          "name": "stdout",
          "text": [
            "Accuracy train:  0.674632\n",
            "Cross-validation scores: [0.67445286 0.67468893 0.67496214 0.67481393 0.67424214]\n",
            "Average cross-validation score: 0.67 \n",
            "\n",
            "Accuracy test:  0.6746976666666666 \n",
            "\n",
            "Classification report: \n",
            "              precision    recall  f1-score   support\n",
            "\n",
            "           0       0.61      1.00      0.75   3000000\n",
            "           1       1.00      0.35      0.52   3000000\n",
            "\n",
            "    accuracy                           0.67   6000000\n",
            "   macro avg       0.80      0.67      0.64   6000000\n",
            "weighted avg       0.80      0.67      0.64   6000000\n",
            " \n",
            "\n",
            "Confusion matrix:\n",
            " [[3000000       0]\n",
            " [1951814 1048186]] \n",
            "\n"
          ]
        },
        {
          "output_type": "display_data",
          "data": {
            "text/plain": [
              "<Figure size 640x480 with 2 Axes>"
            ],
            "image/png": "[encoded data removed]"
          },
          "metadata": {}
        }
      ]
    },
    {
      "cell_type": "markdown",
      "source": [
        "# Gradient Boosting"
      ],
      "metadata": {
        "id": "s9_3B4Sbn1e6"
      },
      "id": "s9_3B4Sbn1e6"
    },
    {
      "cell_type": "code",
      "source": [
        "# gradient boosting\n",
        "\n",
        "gb = GradientBoostingClassifier()\n",
        "gb.fit(X_train, y_train)\n",
        "print(\"Accuracy train: \", gb.score(X_train, y_train))\n",
        "# cross validation\n",
        "scores_gb = cross_val_score(gb, X_train, y_train, cv=5)\n",
        "print(\"Cross-validation scores: {}\".format(scores_gb))\n",
        "print(\"Average cross-validation score: {:.2f}\".format(scores_gb.mean()),\"\\n\")\n",
        "\n",
        "print(\"Accuracy test: \", gb.score(X_test, y_test), \"\\n\")\n",
        "\n",
        "# classification report\n",
        "predict_gb = gb.predict(X_test)\n",
        "print(\"Classification report: \")\n",
        "print(classification_report(y_test, predict_gb), \"\\n\")\n",
        "\n",
        "# confusion matrix\n",
        "matrix_gb = confusion_matrix(y_test, predict_gb)\n",
        "print(\"Confusion matrix:\\n\", matrix_gb, \"\\n\")\n",
        "cm_gb = confusion_matrix(y_test, predict_gb, labels=gb.classes_)\n",
        "disp_gb = ConfusionMatrixDisplay(confusion_matrix=cm_gb, display_labels=gb.classes_)\n",
        "disp_gb.plot()\n",
        "plt.show()"
      ],
      "metadata": {
        "id": "sko-E4WYz2sI",
        "colab": {
          "base_uri": "https://localhost:8080/",
          "height": 829
        },
        "outputId": "d7f9e5fb-d981-4599-ecd1-6ec27aeafa07"
      },
      "id": "sko-E4WYz2sI",
      "execution_count": 9,
      "outputs": [
        {
          "output_type": "stream",
          "name": "stdout",
          "text": [
            "Accuracy train:  0.9548592142857143\n",
            "Cross-validation scores: [0.95921964 0.95930286 0.95918893 0.95938964 0.95942821]\n",
            "Average cross-validation score: 0.96 \n",
            "\n",
            "Accuracy test:  0.954885 \n",
            "\n",
            "Classification report: \n",
            "              precision    recall  f1-score   support\n",
            "\n",
            "           0       0.95      0.96      0.96   3000000\n",
            "           1       0.96      0.95      0.95   3000000\n",
            "\n",
            "    accuracy                           0.95   6000000\n",
            "   macro avg       0.95      0.95      0.95   6000000\n",
            "weighted avg       0.95      0.95      0.95   6000000\n",
            " \n",
            "\n",
            "Confusion matrix:\n",
            " [[2882269  117731]\n",
            " [ 152959 2847041]] \n",
            "\n"
          ]
        },
        {
          "output_type": "display_data",
          "data": {
            "text/plain": [
              "<Figure size 640x480 with 2 Axes>"
            ],
            "image/png": "[encoded data removed]"
          },
          "metadata": {}
        }
      ]
    },
    {
      "cell_type": "markdown",
      "source": [
        "# Sequential neural network"
      ],
      "metadata": {
        "id": "WsBgYfNrm5sx"
      },
      "id": "WsBgYfNrm5sx"
    },
    {
      "cell_type": "code",
      "source": [
        "# # sequential neural network\n",
        "\n",
        "# model = Sequential()\n",
        "# model.add(Dense(50, input_dim=X_train.shape[1], kernel_initializer='normal', activation='relu'))\n",
        "# model.add(Dense(30, input_dim=X_train.shape[1], kernel_initializer='normal', activation='relu'))\n",
        "# model.add(Dense(20, kernel_initializer='normal'))\n",
        "# model.add(Dense(6,activation='softmax'))\n",
        "# model.compile(loss='sparse_categorical_crossentropy', optimizer='adam', metrics=['accuracy'])\n",
        "# monitor = EarlyStopping(monitor='val_loss', min_delta=1e-3, patience=5, verbose=1, mode='auto')\n",
        "# history = model.fit(X_train,y_train,validation_data=(X_test,y_test),callbacks=[monitor],verbose=2,epochs=200,batch_size=1000)\n",
        "\n",
        "# y_pred_prob = model.predict(X_test)\n",
        "# y_pred = np.argmax(y_pred_prob, axis=1)\n",
        "\n",
        "# print(\"\\n\")\n",
        "# accuracy = accuracy_score(y_test, y_pred)\n",
        "# print(\"Accuracy:\", accuracy, \"\\n\")\n",
        "\n",
        "# print(\"Classification report:\")\n",
        "# print(classification_report(y_test, y_pred), \"\\n\")\n",
        "\n",
        "# # confusion matrix\n",
        "# y_pred_prob = model.predict(X_test)\n",
        "# y_pred = np.argmax(y_pred_prob, axis=1)\n",
        "# conf_matrix = confusion_matrix(y_test, y_pred)\n",
        "# print(\"Matriz de Confusão:\")\n",
        "# print(conf_matrix, \"\\n\")\n",
        "\n",
        "# plt.figure(figsize=(5, 5))\n",
        "# sns.heatmap(conf_matrix, annot=True, fmt='d', cmap='Blues',\n",
        "#             xticklabels=['Classe ' + str(i) for i in range(conf_matrix.shape[0])],\n",
        "#             yticklabels=['Classe ' + str(i) for i in range(conf_matrix.shape[0])])\n",
        "# plt.xlabel('Classe Predita')\n",
        "# plt.ylabel('Classe Verdadeira')\n",
        "# plt.title('Matriz de Confusão')\n",
        "# plt.show()\n",
        "\n",
        "# print(\"\\n\")\n",
        "\n",
        "# # lost and accuracy values while training\n",
        "# train_loss = history.history['loss']\n",
        "# val_loss = history.history['val_loss']\n",
        "# train_accuracy = history.history['accuracy']\n",
        "# val_accuracy = history.history['val_accuracy']\n",
        "\n",
        "# # lost curves\n",
        "# plt.figure(figsize=(5, 5))\n",
        "# plt.plot(train_loss, label='Perda no Treinamento', color='blue')\n",
        "# plt.plot(val_loss, label='Perda na Validação', color='red')\n",
        "# plt.title('Curvas de Perda durante o Treinamento')\n",
        "# plt.xlabel('Épocas')\n",
        "# plt.ylabel('Perda')\n",
        "# plt.legend()\n",
        "# plt.grid(True)\n",
        "# plt.show()\n",
        "# print(\"\\n\")\n",
        "\n",
        "# # accuracy curves\n",
        "# plt.figure(figsize=(5, 5))\n",
        "# plt.plot(train_accuracy, label='Acurácia no Treinamento', color='blue')\n",
        "# plt.plot(val_accuracy, label='Acurácia na Validação', color='red')\n",
        "# plt.title('Curvas de Acurácia durante o Treinamento')\n",
        "# plt.xlabel('Épocas')\n",
        "# plt.ylabel('Acurácia')\n",
        "# plt.legend()\n",
        "# plt.grid(True)\n",
        "# plt.show()"
      ],
      "metadata": {
        "id": "-1nM0iUtqsul"
      },
      "id": "-1nM0iUtqsul",
      "execution_count": 10,
      "outputs": []
    }
  ],
  "metadata": {
    "kernelspec": {
      "display_name": "Python 3",
      "name": "python3"
    },
    "language_info": {
      "codemirror_mode": {
        "name": "ipython",
        "version": 3
      },
      "file_extension": ".py",
      "mimetype": "text/x-python",
      "name": "python",
      "nbconvert_exporter": "python",
      "pygments_lexer": "ipython3",
      "version": "3.11.7"
    },
    "colab": {
      "provenance": [],
      "gpuType": "V28",
      "machine_shape": "hm",
      "include_colab_link": true
    },
    "accelerator": "TPU"
  },
  "nbformat": 4,
  "nbformat_minor": 5
}